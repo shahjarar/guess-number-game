{
  "nbformat": 4,
  "nbformat_minor": 0,
  "metadata": {
    "colab": {
      "provenance": [],
      "authorship_tag": "ABX9TyNcKIE3yM2JsU/fjvgUecgK",
      "include_colab_link": true
    },
    "kernelspec": {
      "name": "python3",
      "display_name": "Python 3"
    },
    "language_info": {
      "name": "python"
    }
  },
  "cells": [
    {
      "cell_type": "markdown",
      "metadata": {
        "id": "view-in-github",
        "colab_type": "text"
      },
      "source": [
        "<a href=\"https://colab.research.google.com/github/shahjarar/guess-number-game/blob/main/Untitled17.ipynb\" target=\"_parent\"><img src=\"https://colab.research.google.com/assets/colab-badge.svg\" alt=\"Open In Colab\"/></a>"
      ]
    },
    {
      "cell_type": "code",
      "execution_count": null,
      "metadata": {
        "colab": {
          "base_uri": "https://localhost:8080/"
        },
        "id": "9X8cFuyAcPff",
        "outputId": "e22d0f5c-7b95-4ea2-d167-3278079bf772"
      },
      "outputs": [
        {
          "output_type": "stream",
          "name": "stdout",
          "text": [
            "1\n",
            "2\n",
            "3\n",
            "4\n",
            "5\n",
            "6\n",
            "7\n",
            "8\n",
            "9\n"
          ]
        }
      ],
      "source": [
        "numbers = [1,2,3,4,5,6,7,8,9]\n",
        "for i in numbers:\n",
        "  print(i)"
      ]
    },
    {
      "cell_type": "code",
      "source": [
        "for i in range(0,10,2):\n",
        "  print(i)"
      ],
      "metadata": {
        "colab": {
          "base_uri": "https://localhost:8080/"
        },
        "id": "LvJZo52EgGQo",
        "outputId": "90f55cd6-db9b-4774-a7b8-47819c5a10e5"
      },
      "execution_count": null,
      "outputs": [
        {
          "output_type": "stream",
          "name": "stdout",
          "text": [
            "0\n",
            "2\n",
            "4\n",
            "6\n",
            "8\n"
          ]
        }
      ]
    },
    {
      "cell_type": "code",
      "source": [
        "for i in range(10,0,-1):\n",
        "  print(i)"
      ],
      "metadata": {
        "colab": {
          "base_uri": "https://localhost:8080/"
        },
        "id": "qXHQJkyOhiWX",
        "outputId": "c7ba3f04-0d2e-46b1-d1fe-5ec6166f5f88"
      },
      "execution_count": null,
      "outputs": [
        {
          "output_type": "stream",
          "name": "stdout",
          "text": [
            "10\n",
            "9\n",
            "8\n",
            "7\n",
            "6\n",
            "5\n",
            "4\n",
            "3\n",
            "2\n",
            "1\n"
          ]
        }
      ]
    },
    {
      "cell_type": "code",
      "source": [
        "import time\n",
        "for i in range(10,0,-1):\n",
        "  time.sleep(1)\n",
        "  print(i)"
      ],
      "metadata": {
        "colab": {
          "base_uri": "https://localhost:8080/"
        },
        "id": "JySmZRWVh8t9",
        "outputId": "1a63c51b-2627-4d09-a44b-f92838e025d4"
      },
      "execution_count": null,
      "outputs": [
        {
          "output_type": "stream",
          "name": "stdout",
          "text": [
            "10\n",
            "9\n",
            "8\n",
            "7\n",
            "6\n",
            "5\n",
            "4\n",
            "3\n",
            "2\n",
            "1\n"
          ]
        }
      ]
    },
    {
      "cell_type": "code",
      "source": [
        "import random\n",
        "print(\"Socho ek secret number 1 se 10 ke beech!🤔 \")\n",
        "user_input = int(input(\"Apna secret number likho (Computer iss ko guess karayga): \"))\n",
        "\n",
        "computer_num = random.randint(1,10)\n",
        "print(f\"Computer ka pehla guess hai:  {computer_num}\")\n",
        "\n",
        "\n",
        "\n",
        "while True:\n",
        "  feedback = input(\"kya yeh guess sahi hai? (bara/chhota/sahi):\")\n",
        "  if feedback == \"sahi\":\n",
        "    print(\"yah! 🔥 Computer ne sahi guess kar liya! ✅\")\n",
        "    break\n",
        "  elif feedback == \"chhota\":\n",
        "    print(\"Too Low..\")\n",
        "  elif feedback == \"bara\":\n",
        "    print(\"Too High...\")\n",
        "  else:\n",
        "    print(\"Galat input! Srif 'bara', 'chhota' ya 'sahi' likho.\")\n",
        "    continue\n",
        "  computer_num = random.randint(1,10)\n",
        "  print(f\"Computer ka pehla guess hai:{computer_num}\")"
      ],
      "metadata": {
        "colab": {
          "base_uri": "https://localhost:8080/"
        },
        "id": "y8uGVhF4NW6U",
        "outputId": "8c9e912e-2528-4c13-bd30-f8127a5eb077"
      },
      "execution_count": 5,
      "outputs": [
        {
          "output_type": "stream",
          "name": "stdout",
          "text": [
            "Socho ek secret number 1 se 10 ke beech!🤔 \n",
            "Apna secret number likho (Computer iss ko guess karayga): 7\n",
            "Computer ka pehla guess hai:  6\n",
            "kya yeh guess sahi hai? (bara/chhota/sahi):bara\n",
            "Too High...\n",
            "Computer ka pehla guess hai:9\n",
            "kya yeh guess sahi hai? (bara/chhota/sahi):chhota\n",
            "Too Low..\n",
            "Computer ka pehla guess hai:1\n",
            "kya yeh guess sahi hai? (bara/chhota/sahi):chhota\n",
            "Too Low..\n",
            "Computer ka pehla guess hai:6\n",
            "kya yeh guess sahi hai? (bara/chhota/sahi):baara\n",
            "Galat input! Srif 'bara', 'chhota' ya 'sahi' likho.\n",
            "kya yeh guess sahi hai? (bara/chhota/sahi):barra\n",
            "Galat input! Srif 'bara', 'chhota' ya 'sahi' likho.\n",
            "kya yeh guess sahi hai? (bara/chhota/sahi):sahi\n",
            "yah! 🔥 Computer ne sahi guess kar liya! ✅\n"
          ]
        }
      ]
    }
  ]
}